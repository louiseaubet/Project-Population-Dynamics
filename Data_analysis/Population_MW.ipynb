{
 "cells": [
  {
   "cell_type": "code",
   "execution_count": 7,
   "metadata": {},
   "outputs": [],
   "source": [
    "import numpy as np\n",
    "import csv\n",
    "import pandas as pd\n",
    "import matplotlib.pyplot as plt\n",
    "plt.rcParams.update({'font.size': 14})\n",
    "\n",
    "from matplotlib import rcParams, cycler\n",
    "\n",
    "plt.close('all')"
   ]
  },
  {
   "cell_type": "code",
   "execution_count": 3,
   "metadata": {},
   "outputs": [],
   "source": [
    "DATA_PATH = \"data/total_population.csv\"\n",
    "\n",
    "file = pd.read_csv(DATA_PATH, index_col=0, parse_dates=['Location'])\n",
    "data = pd.DataFrame(file, columns= ['Location', 'Time', 'PopMale','PopFemale', 'PopTotal'])\n",
    "data[['Time', 'PopMale','PopFemale', 'PopTotal']] = data[['Time', 'PopMale','PopFemale', 'PopTotal']].apply(pd.to_numeric)"
   ]
  },
  {
   "cell_type": "code",
   "execution_count": 4,
   "metadata": {},
   "outputs": [
    {
     "name": "stdout",
     "output_type": "stream",
     "text": [
      "          Location  Time    PopMale  PopFemale    PopTotal\n",
      "LocID                                                     \n",
      "608    Philippines  1950   9239.486   9340.997   18580.483\n",
      "608    Philippines  1951   9583.919   9662.684   19246.603\n",
      "608    Philippines  1952   9945.887   9999.382   19945.269\n",
      "608    Philippines  1953  10321.442  10348.166   20669.608\n",
      "608    Philippines  1954  10707.683  10706.895   21414.578\n",
      "...            ...   ...        ...        ...         ...\n",
      "608    Philippines  2011  48204.861  47365.188   95570.049\n",
      "608    Philippines  2012  49014.342  48198.297   97212.639\n",
      "608    Philippines  2013  49820.011  49051.547   98871.558\n",
      "608    Philippines  2014  50613.448  49899.689  100513.137\n",
      "608    Philippines  2015  51388.760  50724.446  102113.206\n",
      "\n",
      "[66 rows x 5 columns]\n"
     ]
    }
   ],
   "source": [
    "data_loc = data.loc[data['Location'] == 'Philippines']\n",
    "data_loc = data_loc.loc[(data_loc['Time'] <= 2015)]\n",
    "print(data_loc)"
   ]
  },
  {
   "cell_type": "code",
   "execution_count": 8,
   "metadata": {},
   "outputs": [
    {
     "data": {
      "text/plain": [
       "Text(0, 0.5, 'Fraction Women Population [ ]')"
      ]
     },
     "execution_count": 8,
     "metadata": {},
     "output_type": "execute_result"
    },
    {
     "data": {
      "image/png": "[encoded data removed]",
      "text/plain": [
       "<Figure size 432x288 with 1 Axes>"
      ]
     },
     "metadata": {
      "needs_background": "light"
     },
     "output_type": "display_data"
    }
   ],
   "source": [
    "x = np.asarray(data_loc['Time'].drop_duplicates())\n",
    "y = np.asarray(data_loc['PopFemale']/data_loc['PopTotal'])\n",
    "\n",
    "fig = plt.figure()\n",
    "plt.plot(x, y)  \n",
    "plt.xlabel('Time [yr]')\n",
    "plt.ylabel('Fraction of Women Population [ ]')"
   ]
  },
  {
   "cell_type": "code",
   "execution_count": 9,
   "metadata": {},
   "outputs": [],
   "source": [
    "fig.savefig('outputs/report/popW_PH.eps', dpi=100, bbox_inches='tight')"
   ]
  },
  {
   "cell_type": "code",
   "execution_count": 7,
   "metadata": {},
   "outputs": [],
   "source": [
    "data_file = pd.DataFrame()\n",
    "data_file['Time'] = data_loc['Time']\n",
    "data_file['PopTotal'] = data_loc['PopTotal']\n",
    "data_file.to_csv(\"poptotal_PH.csv\", index=False)"
   ]
  },
  {
   "cell_type": "code",
   "execution_count": null,
   "metadata": {},
   "outputs": [],
   "source": []
  }
 ],
 "metadata": {
  "kernelspec": {
   "display_name": "Python 3",
   "language": "python",
   "name": "python3"
  },
  "language_info": {
   "codemirror_mode": {
    "name": "ipython",
    "version": 3
   },
   "file_extension": ".py",
   "mimetype": "text/x-python",
   "name": "python",
   "nbconvert_exporter": "python",
   "pygments_lexer": "ipython3",
   "version": "3.7.3"
  }
 },
 "nbformat": 4,
 "nbformat_minor": 2
}
